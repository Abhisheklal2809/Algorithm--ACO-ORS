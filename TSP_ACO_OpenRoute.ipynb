{
  "nbformat": 4,
  "nbformat_minor": 0,
  "metadata": {
    "colab": {
      "provenance": [],
      "authorship_tag": "ABX9TyMUk37unhQBC2aH5I/ved9Z",
      "include_colab_link": true
    },
    "kernelspec": {
      "name": "python3",
      "display_name": "Python 3"
    },
    "language_info": {
      "name": "python"
    }
  },
  "cells": [
    {
      "cell_type": "markdown",
      "metadata": {
        "id": "view-in-github",
        "colab_type": "text"
      },
      "source": [
        "<a href=\"https://colab.research.google.com/github/Abhisheklal2809/Algorithm--ACO-ORS/blob/main/TSP_ACO_OpenRoute.ipynb\" target=\"_parent\"><img src=\"https://colab.research.google.com/assets/colab-badge.svg\" alt=\"Open In Colab\"/></a>"
      ]
    },
    {
      "cell_type": "code",
      "execution_count": 2,
      "metadata": {
        "colab": {
          "base_uri": "https://localhost:8080/"
        },
        "id": "pSRJf2UmX3cq",
        "outputId": "cfea888d-6a7e-4e0f-be92-3db9d06f46dc"
      },
      "outputs": [
        {
          "output_type": "stream",
          "name": "stdout",
          "text": [
            "Collecting openrouteservice\n",
            "  Downloading openrouteservice-2.3.3-py3-none-any.whl.metadata (9.2 kB)\n",
            "Requirement already satisfied: folium in /usr/local/lib/python3.12/dist-packages (0.20.0)\n",
            "Requirement already satisfied: requests>=2.0 in /usr/local/lib/python3.12/dist-packages (from openrouteservice) (2.32.4)\n",
            "Requirement already satisfied: branca>=0.6.0 in /usr/local/lib/python3.12/dist-packages (from folium) (0.8.1)\n",
            "Requirement already satisfied: jinja2>=2.9 in /usr/local/lib/python3.12/dist-packages (from folium) (3.1.6)\n",
            "Requirement already satisfied: numpy in /usr/local/lib/python3.12/dist-packages (from folium) (2.0.2)\n",
            "Requirement already satisfied: xyzservices in /usr/local/lib/python3.12/dist-packages (from folium) (2025.4.0)\n",
            "Requirement already satisfied: MarkupSafe>=2.0 in /usr/local/lib/python3.12/dist-packages (from jinja2>=2.9->folium) (3.0.2)\n",
            "Requirement already satisfied: charset_normalizer<4,>=2 in /usr/local/lib/python3.12/dist-packages (from requests>=2.0->openrouteservice) (3.4.3)\n",
            "Requirement already satisfied: idna<4,>=2.5 in /usr/local/lib/python3.12/dist-packages (from requests>=2.0->openrouteservice) (3.10)\n",
            "Requirement already satisfied: urllib3<3,>=1.21.1 in /usr/local/lib/python3.12/dist-packages (from requests>=2.0->openrouteservice) (2.5.0)\n",
            "Requirement already satisfied: certifi>=2017.4.17 in /usr/local/lib/python3.12/dist-packages (from requests>=2.0->openrouteservice) (2025.8.3)\n",
            "Downloading openrouteservice-2.3.3-py3-none-any.whl (33 kB)\n",
            "Installing collected packages: openrouteservice\n",
            "Successfully installed openrouteservice-2.3.3\n"
          ]
        }
      ],
      "source": [
        "!pip install openrouteservice folium"
      ]
    },
    {
      "cell_type": "code",
      "source": [
        "import openrouteservice\n",
        "import numpy as np\n",
        "import time\n",
        "import folium\n",
        "from google.colab import files\n",
        "import random"
      ],
      "metadata": {
        "id": "jUEW10CAYBi-"
      },
      "execution_count": 3,
      "outputs": []
    },
    {
      "cell_type": "code",
      "source": [
        "# ORS API Key\n",
        "API_KEY = \"5b3ce3597851110001cf6248ecec7d0fd7704fd8b1b5d83331296e14\"\n",
        "client = openrouteservice.Client(key=API_KEY)"
      ],
      "metadata": {
        "id": "j1zN9VD1YFz2"
      },
      "execution_count": 4,
      "outputs": []
    },
    {
      "cell_type": "code",
      "source": [
        "# Get coordinates from location names\n",
        "def get_coordinates(locations):\n",
        "    coords = []\n",
        "    for loc in locations:\n",
        "        try:\n",
        "            response = client.pelias_search(loc)\n",
        "            if response and 'features' in response and response['features']:\n",
        "                coord = response['features'][0]['geometry']['coordinates'][::-1]\n",
        "                coords.append(tuple(coord))\n",
        "                time.sleep(1)\n",
        "            else:\n",
        "                print(f\" No coordinates found for {loc}\")\n",
        "                return None\n",
        "        except Exception as e:\n",
        "            print(f\" Error fetching coordinates for {loc}: {e}\")\n",
        "            return None\n",
        "    return coords\n"
      ],
      "metadata": {
        "id": "Fs43lljoYMmb"
      },
      "execution_count": 5,
      "outputs": []
    },
    {
      "cell_type": "code",
      "source": [
        "# Build real-time travel time matrix\n",
        "def get_distance_matrix(coords):\n",
        "    try:\n",
        "        n = len(coords)\n",
        "        matrix = np.zeros((n, n))\n",
        "        for i in range(n):\n",
        "            for j in range(n):\n",
        "                if i != j:\n",
        "                    response = client.directions(\n",
        "                        coordinates=[coords[i][::-1], coords[j][::-1]],\n",
        "                        profile=\"driving-car\",\n",
        "                        format=\"json\"\n",
        "                    )\n",
        "                    if \"routes\" in response and response[\"routes\"]:\n",
        "                        matrix[i][j] = response[\"routes\"][0][\"summary\"][\"duration\"]\n",
        "                        time.sleep(1)  # Avoid rate-limiting\n",
        "                    else:\n",
        "                        print(f\" No route between {coords[i]} and {coords[j]}\")\n",
        "                        return None\n",
        "        return matrix\n",
        "    except Exception as e:\n",
        "        print(f\" Error creating distance matrix: {e}\")\n",
        "        return None"
      ],
      "metadata": {
        "id": "38Pbs0PLYRaA"
      },
      "execution_count": 6,
      "outputs": []
    },
    {
      "cell_type": "code",
      "source": [
        "# Ant Colony Optimization (starts at city[0], no return)\n",
        "def solve_tsp_aco(matrix, num_ants=10, num_iterations=100, alpha=1.0, beta=2.0, evaporation_rate=0.5, Q=100):\n",
        "    n = len(matrix)\n",
        "    pheromone = np.ones((n, n))\n",
        "    best_path = None\n",
        "    best_cost = float('inf')\n",
        "\n",
        "    def path_cost(path):\n",
        "        return sum(matrix[path[i]][path[i + 1]] for i in range(len(path) - 1))\n",
        "\n",
        "    for iteration in range(num_iterations):\n",
        "        all_paths = []\n",
        "        all_costs = []\n",
        "\n",
        "        for _ in range(num_ants):\n",
        "            unvisited = list(range(1, n))  # start fixed at city 0\n",
        "            path = [0]\n",
        "\n",
        "            while unvisited:\n",
        "                current = path[-1]\n",
        "                probabilities = []\n",
        "                for next_city in unvisited:\n",
        "                    pher = pheromone[current][next_city] ** alpha\n",
        "                    heur = (1 / matrix[current][next_city]) ** beta\n",
        "                    probabilities.append(pher * heur)\n",
        "\n",
        "                total = sum(probabilities)\n",
        "                probabilities = [p / total for p in probabilities]\n",
        "                next_city = random.choices(unvisited, weights=probabilities)[0]\n",
        "                path.append(next_city)\n",
        "                unvisited.remove(next_city)\n",
        "\n",
        "            all_paths.append(path)\n",
        "            cost = path_cost(path)\n",
        "            all_costs.append(cost)\n",
        "\n",
        "            if cost < best_cost:\n",
        "                best_cost = cost\n",
        "                best_path = path\n",
        "\n",
        "        # Update pheromones\n",
        "        pheromone *= (1 - evaporation_rate)\n",
        "        for path, cost in zip(all_paths, all_costs):\n",
        "            for i in range(len(path) - 1):\n",
        "                a, b = path[i], path[i + 1]\n",
        "                pheromone[a][b] += Q / cost\n",
        "                pheromone[b][a] += Q / cost\n",
        "\n",
        "    return best_path, best_cost"
      ],
      "metadata": {
        "id": "S9MlZsWnYXVq"
      },
      "execution_count": 7,
      "outputs": []
    },
    {
      "cell_type": "code",
      "source": [
        "# Format city path\n",
        "def format_route(locations, path):\n",
        "    return [locations[i] for i in path]\n",
        "\n",
        "# Step 5: Plot the path using Folium (includes return leg)\n",
        "def plot_route(coords, path, locations):\n",
        "    m = folium.Map(location=coords[0], zoom_start=6)\n",
        "\n",
        "    for i, coord in enumerate(coords):\n",
        "        folium.Marker(coord, popup=locations[i], icon=folium.Icon(color='blue')).add_to(m)\n",
        "\n",
        "    route_coords = [coords[i] for i in path]\n",
        "    folium.PolyLine(route_coords, color='blue', weight=3, opacity=1, tooltip=\"ACO Path\").add_to(m)\n",
        "\n",
        "    # Highlight start and end\n",
        "    folium.Marker(coords[path[0]], popup=\"Start\", icon=folium.Icon(color='green')).add_to(m)\n",
        "    folium.Marker(coords[path[-1]], popup=\"End\", icon=folium.Icon(color='red')).add_to(m)\n",
        "\n",
        "    # Draw return leg as dashed red line\n",
        "    folium.PolyLine(\n",
        "        [coords[path[-1]], coords[path[0]]],\n",
        "        color='red',\n",
        "        weight=2,\n",
        "        opacity=0.7,\n",
        "        dash_array='5,10',\n",
        "        tooltip='Return to Start'\n",
        "    ).add_to(m)\n",
        "\n",
        "    return m"
      ],
      "metadata": {
        "id": "SQSp-P_MYcva"
      },
      "execution_count": 8,
      "outputs": []
    },
    {
      "cell_type": "code",
      "source": [
        "#  MAIN\n",
        "locations = [\n",
        "    \"Delhi, India\", \"Agra, India\", \"Jaipur, India\", \"Lucknow, India\", \"Chandigarh, India\", \"Allahabad, India\", \"Bhagalpur, India\"\n",
        "]\n",
        "\n",
        "print(\" Fetching coordinates...\")\n",
        "coords = get_coordinates(locations)\n",
        "\n",
        "if coords:\n",
        "    print(\" Creating distance matrix...\")\n",
        "    matrix = get_distance_matrix(coords)\n",
        "\n",
        "    print(\" Running Ant Colony Optimization (No return to start)...\")\n",
        "    best_path, best_cost = solve_tsp_aco(matrix)\n",
        "\n",
        "    print(\"\\n Optimal Route (Start at Delhi, No Return):\")\n",
        "    print(format_route(locations, best_path))\n",
        "    print(f\" Travel Time (Path Only): {best_cost / 60:.2f} minutes\")\n",
        "\n",
        "    #  Add return time calculation\n",
        "    start_coord = coords[best_path[0]][::-1]\n",
        "    end_coord = coords[best_path[-1]][::-1]\n",
        "\n",
        "    try:\n",
        "        return_route = client.directions(\n",
        "            coordinates=[end_coord, start_coord],\n",
        "            profile=\"driving-car\",\n",
        "            format=\"json\"\n",
        "        )\n",
        "        return_time = return_route[\"routes\"][0][\"summary\"][\"duration\"]\n",
        "        total_time = best_cost + return_time\n",
        "        print(f\" Return Time (End ➝ Start): {return_time / 60:.2f} minutes\")\n",
        "        print(f\" Total Travel Time (Path + Return): {best_cost / 60:.2f} + {return_time / 60:.2f} = {total_time / 60:.2f} minutes\")\n",
        "    except Exception as e:\n",
        "        print(f\"Could not fetch return time: {e}\")\n",
        "        return_time = None\n",
        "\n",
        "    #  Plot map and show return\n",
        "    map_result = plot_route(coords, best_path, locations)\n",
        "    map_file = \"/content/aco_tsp_with_return.html\"\n",
        "    map_result.save(map_file)\n",
        "    files.download(map_file)\n",
        "    print(\" Route map saved and downloaded.\")\n",
        "else:\n",
        "    print(\" Failed to get coordinates.\")"
      ],
      "metadata": {
        "colab": {
          "base_uri": "https://localhost:8080/"
        },
        "id": "ABHb5QkFYkK5",
        "outputId": "8c66d733-6b4e-4a11-96f0-97549379d19e"
      },
      "execution_count": null,
      "outputs": [
        {
          "output_type": "stream",
          "name": "stdout",
          "text": [
            " Fetching coordinates...\n",
            " Creating distance matrix...\n"
          ]
        },
        {
          "output_type": "stream",
          "name": "stderr",
          "text": [
            "/usr/local/lib/python3.12/dist-packages/openrouteservice/client.py:211: UserWarning: Rate limit exceeded. Retrying for the 1st time.\n",
            "  warnings.warn('Rate limit exceeded. Retrying for the {0}{1} time.'.format(retry_counter + 1,\n",
            "/usr/local/lib/python3.12/dist-packages/openrouteservice/client.py:211: UserWarning: Rate limit exceeded. Retrying for the 2nd time.\n",
            "  warnings.warn('Rate limit exceeded. Retrying for the {0}{1} time.'.format(retry_counter + 1,\n",
            "/usr/local/lib/python3.12/dist-packages/openrouteservice/client.py:211: UserWarning: Rate limit exceeded. Retrying for the 3rd time.\n",
            "  warnings.warn('Rate limit exceeded. Retrying for the {0}{1} time.'.format(retry_counter + 1,\n",
            "/usr/local/lib/python3.12/dist-packages/openrouteservice/client.py:211: UserWarning: Rate limit exceeded. Retrying for the 4th time.\n",
            "  warnings.warn('Rate limit exceeded. Retrying for the {0}{1} time.'.format(retry_counter + 1,\n",
            "/usr/local/lib/python3.12/dist-packages/openrouteservice/client.py:211: UserWarning: Rate limit exceeded. Retrying for the 5th time.\n",
            "  warnings.warn('Rate limit exceeded. Retrying for the {0}{1} time.'.format(retry_counter + 1,\n"
           
          ]
        }
      ]
    }
  ]
}
